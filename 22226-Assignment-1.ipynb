{
 "cells": [
  {
   "cell_type": "code",
   "execution_count": 12,
   "id": "f05b8cbc",
   "metadata": {},
   "outputs": [
    {
     "name": "stdout",
     "output_type": "stream",
     "text": [
      "Enter a: 5\n",
      "Enter b: 8\n",
      "Enter c: 7\n",
      "The equation will have complex roots\n"
     ]
    }
   ],
   "source": [
    "#Q1. Write a program to compute the real roots of the equation 𝑎𝑥2+𝑏𝑥+𝑐.\n",
    "\n",
    "\"\"\"_Summary_\n",
    "The Function quad_roots finds out the real roots of the quadratic polynomial\n",
    "\n",
    "Inputs : The constants a,b,c\n",
    "Output : The real roots of the equation\n",
    "\"\"\"\n",
    "\n",
    "import math\n",
    "def quad_roots():\n",
    "    a = float(input('Enter a: '))  \n",
    "    b = float(input('Enter b: '))   \n",
    "    c = float(input('Enter c: '))  \n",
    "    \n",
    "    d = (b**2) - (4*a*c)    \n",
    "    if(d < 0):\n",
    "        print(\"The equation will have complex roots\")\n",
    "        return\n",
    "    sol1 = (-b - math.sqrt(d)) / (2*a)  \n",
    "    sol2 = (-b + math.sqrt(d)) / (2*a)  \n",
    "    print('The solution are',sol1,'and',sol2)   \n",
    "\n",
    "quad_roots()"
   ]
  },
  {
   "cell_type": "code",
   "execution_count": 30,
   "id": "ab3ac1bc",
   "metadata": {},
   "outputs": [
    {
     "name": "stdout",
     "output_type": "stream",
     "text": [
      "x can not be a floating point number\n"
     ]
    },
    {
     "data": {
      "text/plain": [
       "0"
      ]
     },
     "execution_count": 30,
     "metadata": {},
     "output_type": "execute_result"
    }
   ],
   "source": [
    "#Q2. Write a program to compute the probability 𝑃(𝑋=𝑥), where 𝑋∼𝐵𝑖𝑛(𝑛=10,𝑝=0.2)\n",
    "\n",
    "\"\"\"_Summary_\n",
    "Binomial_probablity(n,p,x) is a function which takes the arguments n (number of trials) p (probablity of winning) and\n",
    "x (A specific trial)\n",
    "\n",
    "Formula: P(X=x) = nCx * p**x * (1-p)**(n-x)\n",
    "\n",
    "Input: number of trials (n), probablity of winning (p) and the specific trial (x)\n",
    "output: The binomial probablity\n",
    "\"\"\"\n",
    "def factorial(n):\n",
    "    if n == 1:\n",
    "        return n\n",
    "    elif n == 0:\n",
    "        return (1)\n",
    "    elif (n < 0):\n",
    "        return \"NA\"\n",
    "    else:\n",
    "        return n*factorial(n-1)\n",
    "\n",
    "def Binomial_Probablity(n,p,x):\n",
    "    if(type(x) == float):\n",
    "        print(\"x can not be a floating point number\")\n",
    "        return 0\n",
    "    if(x >= n):\n",
    "        print(\"The probablity should lie between 0 and 1\")\n",
    "        return 0\n",
    "    nCx = (factorial(n))/(factorial(n-x)) * (factorial(x))\n",
    "    probablity = (nCx) * (p**x) *((1-p)**(n-x))\n",
    "    print(probablity)\n",
    "    \n",
    "\n",
    "Binomial_Probablity(11,10,0.5)"
   ]
  },
  {
   "cell_type": "code",
   "execution_count": 14,
   "id": "cd22b898",
   "metadata": {},
   "outputs": [
    {
     "name": "stdout",
     "output_type": "stream",
     "text": [
      "Are you tired?\n",
      " Yes/No :no\n",
      "Are you tired?\n",
      " Yes/No :yes\n",
      "You didn't finished the race\n"
     ]
    }
   ],
   "source": [
    "# Q3. Lets say you are running a 5 km race. Write a program that,\n",
    "\n",
    "# Upon completing each 1 km asks you \"are you tired?\"\n",
    "\n",
    "# If you reply \"yes\" then it should break and print \"you didn't finish the race\"\n",
    "\n",
    "# If you reply \"no\" then it should continue and ask \"are you tired\" on every km\n",
    "\n",
    "# If you finish all 5 km then it should print congratulations message\n",
    "\n",
    "\"\"\"_Summary_\n",
    "The Function run() takes the number of kilometers as the argument\n",
    "\"\"\"\n",
    "\n",
    "def run(k):\n",
    "    for i in range(0,k):\n",
    "        print(\"Are you tired?\")\n",
    "        inp = str(input(\" Yes/No :\"))\n",
    "        if(inp == \"Yes\" or inp == \"yes\"):\n",
    "            print(\"You didn't finished the race\")\n",
    "            return\n",
    "    \n",
    "    print(\"Congratulations!!!! you have finished the race!!!\")\n",
    "\n",
    "run(5)"
   ]
  },
  {
   "cell_type": "code",
   "execution_count": 15,
   "id": "5dbd8338",
   "metadata": {},
   "outputs": [
    {
     "name": "stdout",
     "output_type": "stream",
     "text": [
      "The tip for the waiter when the party is 12 is 1250.0\n"
     ]
    }
   ],
   "source": [
    "# Q4. Write a function tip_calc(bill, party), where bill is the total cost of a meal and party is the number of people \n",
    "# in the group. The tip should be calculated as 15% for a party strictly less than six people, 18% for a party strictly \n",
    "# less than eight, 20% for a party less than 11, and 25% for a party 11 or more.\n",
    "\n",
    "\"\"\"_Summary_\n",
    "The function tip_calc(bill, party), takes the arguments bill and party, where bill is the total cost of a meal and party is the number of people \n",
    "in the group. The tip is to be calculated as 15% for a party strictly less than six people, 18% for a party strictly \n",
    "less than eight, 20% for a party less than 11, and 25% for a party 11 or more.\n",
    "\n",
    "\"\"\"\n",
    "\n",
    "def tip_calc(bill, party):\n",
    "    tip = 0\n",
    "    if(party < 6):\n",
    "        tip = (15/100)*bill\n",
    "        print(\"The tip for the waiter when the party is\",party,\"is\",tip)\n",
    "        return\n",
    "    if(party > 6 and party < 8):\n",
    "        tip = (18/100)*bill\n",
    "        print(\"The tip for the waiter when the party is\",party,\"is\",tip)\n",
    "        return\n",
    "    if(party > 8 and party < 11):\n",
    "        tip = (20/100)*bill\n",
    "        print(\"The tip for the waiter when the party is\",party,\"is\",tip)\n",
    "        return\n",
    "    if(party > 11):\n",
    "        tip = (25/100)*bill\n",
    "        print(\"The tip for the waiter when the party is\",party,\"is\",tip)\n",
    "        return\n",
    "    \n",
    "tip_calc(5000, 12)"
   ]
  },
  {
   "cell_type": "code",
   "execution_count": 16,
   "id": "69ce32a9",
   "metadata": {},
   "outputs": [
    {
     "name": "stdout",
     "output_type": "stream",
     "text": [
      "A power B is : 8\n"
     ]
    }
   ],
   "source": [
    "# Q5. Write a function mult_operation(a,b,operation). The input argument, operation, is a string that is either \n",
    "# 'plus', 'minus', 'mult', 'div', or 'pow', and the function should compute: a+b, a−b, a∗b, a/b, and ab for the respective \n",
    "# values for operation.\n",
    "\n",
    "\"\"\"_Summary_\n",
    "The function mult_operation(a,b,operation) takes the input arguments, a and b and the operation which is a string that is \n",
    "either 'plus', 'minus','mult', 'div', or 'pow', and the function should compute: a+b, a−b, a∗b, a/b, and ab for the \n",
    "respective values for operation.\n",
    "\"\"\"\n",
    "\n",
    "def mult_operation(a,b,operation):\n",
    "    c = 0\n",
    "    if(operation == \"plus\"):\n",
    "        c = a + b\n",
    "        print(\"The sum of the two number is \",c)\n",
    "    elif(operation == \"minus\"):\n",
    "        c = a - b\n",
    "        print(\"The difference of the two number is \",c)\n",
    "    elif(operation == \"mult\"):\n",
    "        c = a * b\n",
    "        print(\"The product of the two number is \",c)\n",
    "    elif(operation == \"div\"):\n",
    "        c = a/b\n",
    "        print(\"The division of the two number is\",c)\n",
    "    elif(operation == \"pow\"):\n",
    "        c = a**b\n",
    "        print(\"A power B is :\",c)\n",
    "    else:\n",
    "        print(\": Incorrect Input :\")\n",
    "        \n",
    "mult_operation(2,3,\"pow\")"
   ]
  },
  {
   "cell_type": "code",
   "execution_count": 17,
   "id": "73f5fe55",
   "metadata": {},
   "outputs": [
    {
     "name": "stdout",
     "output_type": "stream",
     "text": [
      "Not Inside\n"
     ]
    }
   ],
   "source": [
    "# Q6. Consider a triangle with vertices at (0,0), (1,0), and (0,1). Write a function inside_triangle(x,y) where the output \n",
    "# is the string ‘outside’ if the point (x,y) is outside of the triangle, ‘border’ if the point is exactly on the border of \n",
    "# the triangle, and ‘inside’ if the point is on the inside of the triangle.\n",
    "\n",
    "\"\"\"_Summary_\n",
    "The function isInside() takes the points of the triangle A,B and C and also the point P(x,y), that we have to check is \n",
    "inside or not, as inputs.\n",
    "The function triangle_Area() calculates the area of the triangle, given the points A,B and C\n",
    "\n",
    "Input: A(0,0), B(1,0) and C(0,1)  and also the point P(10, 15)\n",
    "Output: Wheather the point P is inside the triangle or at the border or outside the triangle\n",
    "\"\"\"\n",
    "\n",
    "def triangle_Area(x1, y1, x2, y2, x3, y3):\n",
    "    return abs((x1 * (y2 - y3) + x2 * (y3 - y1)\n",
    "                + x3 * (y1 - y2)) / 2.0)\n",
    "\n",
    "def isInside(x1,y1,x2,y2,x3,y3, x, y):\n",
    "    A = triangle_Area(x1, y1, x2, y2, x3, y3)  # Calculating the area of triangle ABC\n",
    "    A1 = triangle_Area(x, y, x2, y2, x3, y3)   # Calculating the area of triangle PBC\n",
    "    A2 = triangle_Area(x1, y1, x, y, x3, y3)   # Calculating the area of triangle PAC\n",
    "    A3 = triangle_Area(x1, y1, x2, y2, x, y)   # Calculating the area of triangle PAB\n",
    "\n",
    "    # Checking if x is 0 or y is 0 or x+y =1 if yes then its in Border also if sum of A1, A2 and A3 is same as A then its \n",
    "    #inside\n",
    "    if(x == 0 or y == 0 or x+y == 1):\n",
    "        print(\"Border\")\n",
    "        return\n",
    "    elif(A == A1 + A2 + A3):\n",
    "        print(\"Inside\")\n",
    "        return\n",
    "    else:\n",
    "        print(\"Not Inside\")\n",
    "        return\n",
    "    \n",
    "    \n",
    "# Let's have the triangle with vertices at A(0,0), B(1,0) and C(0,1)\n",
    "# let p be the point P(10,15)\n",
    "isInside(0, 0, 1, 0, 0, 1, 10, 15)  "
   ]
  },
  {
   "cell_type": "code",
   "execution_count": 18,
   "id": "08884460",
   "metadata": {},
   "outputs": [
    {
     "name": "stdout",
     "output_type": "stream",
     "text": [
      "C\n"
     ]
    }
   ],
   "source": [
    "# Q7. Write a function letter_grader(percent), where grade is the string ‘O’ if percent is greater than 80, ‘A’ if percent\n",
    "# is greater than 70, ‘B‘ if percent is greater than 60,‘C’ if percent is greater than 40, and ‘F’ if percent is less than \n",
    "# 40. Grades exactly on the division should be included in the higher grade category.\n",
    "\n",
    "\"\"\"_Summary_\n",
    "The function letter_grader(percent),takes the argument percent and based on that grades will be displaced, where grade is\n",
    "the string ‘O’ if percent is greater than 80, ‘A’ if percent is greater than 70, ‘B‘ if percent is greater than 60,‘C’ if\n",
    "percent is greater than 40, and ‘F’ if percent is less than 40. Grades exactly on the division should be included in the \n",
    "higher grade category.\n",
    "\"\"\"\n",
    "def letter_grader(percent):\n",
    "    if(percent >= 80):\n",
    "        print(\"O\")\n",
    "    elif(percent < 80 and percent >= 70):\n",
    "        print(\"A\")\n",
    "    elif(percent < 70 and percent >= 60):\n",
    "        print(\"B\")\n",
    "    elif(percent < 60 and percent >= 40):\n",
    "        print(\"C\")\n",
    "    elif(percent < 40):\n",
    "        print(\"F\")       \n",
    "        \n",
    "letter_grader(40)"
   ]
  },
  {
   "cell_type": "code",
   "execution_count": 19,
   "id": "8f092438",
   "metadata": {},
   "outputs": [
    {
     "name": "stdout",
     "output_type": "stream",
     "text": [
      "Normal\n"
     ]
    }
   ],
   "source": [
    "# Q8. Consider a nuclear reactor whose temperature is monitored by three sensors. An alarm should go off if any two of \n",
    "# the sensor readings disagree. Write a function nuke_alarm(s1,s2,s3) where s1, s2, and s3 are the temperature readings \n",
    "# for sensor 1, sensor 2, and sensor 3, respectively. The output should be the string ‘alarm!’ if any two of the temperature\n",
    "# readings disagree by strictly more than 10 degrees and ‘normal’ otherwise\n",
    "\n",
    "\"\"\"_Summary_\n",
    "Teh function nuke_alarm(s1,s2,s3) takes the argument s1, s2, s3 which are the emperature readings for sensor 1, sensor 2, \n",
    "and sensor 3, respectively. The output is the string ‘alarm!’ if any two of the temperature readings disagree by \n",
    "strictly more than 10 degrees and ‘normal’ otherwise\n",
    "\"\"\"\n",
    "\n",
    "def nuke_alarm(s1,s2,s3):\n",
    "    if(s1 > 10 and s2 > 10 and s3 > 10):\n",
    "        print(\"alarm!!!\")\n",
    "    elif(s1 > 10 and s2 > 10):\n",
    "        print(\"alarm!!!\")\n",
    "    elif(s1 >10 and s3 > 10):\n",
    "        print(\"alarm!!!\")\n",
    "    elif(s2 > 10 and s3 > 10):\n",
    "        print(\"alarm!!!\")\n",
    "    else:\n",
    "        print(\"Normal\")\n",
    "        \n",
    "nuke_alarm(10,5,20)"
   ]
  },
  {
   "cell_type": "code",
   "execution_count": 2,
   "id": "8ddc1163",
   "metadata": {},
   "outputs": [
    {
     "name": "stdout",
     "output_type": "stream",
     "text": [
      "20.56\n",
      "3.4\n",
      "5.2\n",
      "2.8\n",
      "7.4\n",
      "3.9\n",
      "9.4\n"
     ]
    }
   ],
   "source": [
    "# Q9. Write a function n_odds(x), where 𝑥 is a one-dimensional array of floats and the output is the number of odd numbers \n",
    "# in 𝑥.\n",
    "\"\"\"_Summary_\n",
    "The function n_odds(x), where 𝑥 is a one-dimensional array of floats and the output is the number of odd numbers in 𝑥.\n",
    "\n",
    "Input: x, which is a list. For example, x = [20,3,5,4,2,7,3,9]\n",
    "output: The odd numbers in the list\n",
    "\"\"\"\n",
    "def n_odds(x):\n",
    "    n = len(x)\n",
    "    for i in range(0,n):\n",
    "        if(x[i] % 2 != 0):\n",
    "            print(x[i])\n",
    "    return\n",
    "\n",
    "x = [20.56,3.4,5.2,4.0,2.8,7.4,3.9,9.4]\n",
    "n_odds(x)"
   ]
  },
  {
   "cell_type": "code",
   "execution_count": 21,
   "id": "27e4866d",
   "metadata": {},
   "outputs": [
    {
     "data": {
      "text/plain": [
       "[11780.972450961724, 98174.77042468103]"
      ]
     },
     "execution_count": 21,
     "metadata": {},
     "output_type": "execute_result"
    }
   ],
   "source": [
    "# Q10. Write a function vol_cylinder(r,h), where 𝑟 and ℎ are the radius and height of a cylinder, respectively, and the \n",
    "# output is a list [𝑠,𝑣] where 𝑠 and 𝑣 are the surface area and volume of the same cylinder, respectively. Recall that the \n",
    "# surface area of a cylinder is 2π𝑟2+2π𝑟ℎ, and the volume is π𝑟2ℎ. Assume that 𝑟 and ℎ are 1 by 1 float.\n",
    "\n",
    "\"\"\"_Summary_\n",
    "The function vol_cylinder(r,h) takes the argument r and h which is the radius and height of a cylinder.\n",
    "\n",
    "Input: Radius and height of the cylinder\n",
    "output: list [s,v], which is the surface area and volume of the cylinder respectively\n",
    "\"\"\"\n",
    "import math\n",
    "def vol_cylinder(r,h):\n",
    "    lst = []\n",
    "    surface_area = 2*(math.pi)*(r**2) + 2*(math.pi)*r*h\n",
    "    lst.append(surface_area)\n",
    "    volume = (math.pi)*(r**2)*h\n",
    "    lst.append(volume)\n",
    "    return lst\n",
    "\n",
    "vol_cylinder(25, 50)"
   ]
  },
  {
   "cell_type": "code",
   "execution_count": null,
   "id": "65e274ff",
   "metadata": {},
   "outputs": [],
   "source": []
  }
 ],
 "metadata": {
  "kernelspec": {
   "display_name": "Python 3 (ipykernel)",
   "language": "python",
   "name": "python3"
  },
  "language_info": {
   "codemirror_mode": {
    "name": "ipython",
    "version": 3
   },
   "file_extension": ".py",
   "mimetype": "text/x-python",
   "name": "python",
   "nbconvert_exporter": "python",
   "pygments_lexer": "ipython3",
   "version": "3.9.13"
  }
 },
 "nbformat": 4,
 "nbformat_minor": 5
}
