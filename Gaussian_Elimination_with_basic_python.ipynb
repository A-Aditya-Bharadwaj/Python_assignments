{
 "cells": [
  {
   "cell_type": "markdown",
   "id": "f3e94a14",
   "metadata": {},
   "source": [
    "## Assignment - I\n",
    "\n",
    "### Name : A Aditya Bhardwaj\n",
    "#### Reg. No. : 22226"
   ]
  },
  {
   "cell_type": "markdown",
   "id": "e7f7560a",
   "metadata": {},
   "source": [
    "Solve the following system:\n",
    "$$\n",
    "    x_1+x_2+x_3+x_4 = 1,\n",
    "$$\n",
    "$$\n",
    "    x_1+x_2+3x_3+3x_4 = 3,\n",
    "$$\n",
    "$$\n",
    "    x_1+x_2+2x_3+3x_4 = 3,\n",
    "$$\n",
    "$$\n",
    "    x_1+3x_2+3x_3+3x_4 = 4.\n",
    "$$"
   ]
  },
  {
   "cell_type": "code",
   "execution_count": 32,
   "id": "5dfd8a1c",
   "metadata": {},
   "outputs": [],
   "source": [
    " # function for elementary operation of swapping two rows\n",
    "N = len(M)\n",
    "def swap_row(Matrix, i, j):\n",
    " \n",
    "    for k in range(N + 1):\n",
    " \n",
    "        temp = Matrix[i][k]\n",
    "        Matrix[i][k] = Matrix[j][k]\n",
    "        Matrix[j][k] = temp\n"
   ]
  },
  {
   "cell_type": "code",
   "execution_count": 33,
   "id": "7ca84fb1",
   "metadata": {},
   "outputs": [],
   "source": [
    " # function to reduce matrix to row echelon form\n",
    "def forward_Elim(Matrix):\n",
    "    for k in range(N):\n",
    "       \n",
    "        # Initialize maximum value and index for pivot\n",
    "        i_max = k                     # index of the max\n",
    "        v_max = Matrix[i_max][k]      # value of the max\n",
    " \n",
    "        # find greater amplitude for pivot if any\n",
    "        for i in range(k + 1, N):\n",
    "            if (abs(Matrix[i][k]) > v_max):\n",
    "                v_max = Matrix[i][k]\n",
    "                i_max = i\n",
    " \n",
    "        # if a principal diagonal element  is zero,\n",
    "        # it denotes that matrix is singular.\n",
    "        if not Matrix[k][i_max]:\n",
    "            return k    # Matrix is singular\n",
    " \n",
    "        # Swap the greatest value row with current row\n",
    "        if (i_max != k):\n",
    "            swap_row(Matrix, k, i_max)\n",
    " \n",
    "        for i in range(k + 1, N):\n",
    " \n",
    "            # factor f to set current row kth element to 0,\n",
    "            # and subsequently remaining kth column to 0\n",
    "            f = Matrix[i][k]/Matrix[k][k]\n",
    " \n",
    "            # subtract fth multiple of corresponding kth\n",
    "            # row element\n",
    "            for j in range(k + 1, N + 1):\n",
    "                Matrix[i][j] -= Matrix[k][j]*f\n",
    " \n",
    "            # filling lower triangular matrix with zeros\n",
    "            Matrix[i][k] = 0\n",
    "    return -1"
   ]
  },
  {
   "cell_type": "code",
   "execution_count": 34,
   "id": "4ae6fd7f",
   "metadata": {},
   "outputs": [],
   "source": [
    "# Gaussian Elimination method\n",
    "\n",
    "def Gaussian_Elimination(Matrix):\n",
    " \n",
    "    # reduction into row echelon form\n",
    "    singular = forward_Elim(Matrix)\n",
    " \n",
    "    # if matrix is singular\n",
    "    if (singular != -1):\n",
    " \n",
    "        print(\"Singular Matrix.\")\n",
    " \n",
    "        #   if the RHS of equation corresponding to\n",
    "        #   zero row  is 0, then the system has infinitely\n",
    "        #   many solutions, else inconsistent\n",
    "        if (Matrix[singular][N]):\n",
    "            print(\"Inconsistent System.\")\n",
    "        else:\n",
    "            print(\"May have infinitely many solutions.\")\n",
    " \n",
    "        return\n",
    " \n",
    "    # get solution to system and print it using\n",
    "    #   backward substitution\n",
    "    back_Sub(Matrix)"
   ]
  },
  {
   "cell_type": "code",
   "execution_count": 35,
   "id": "7eae427f",
   "metadata": {},
   "outputs": [],
   "source": [
    "# function to calculate the values of the unknowns\n",
    "def back_Sub(Matrix):\n",
    " \n",
    "    x = [None for _ in range(N)]    # An array to store solution\n",
    " \n",
    "    # Starts calculating from last equation up to the first \n",
    "    for i in range(N-1, -1, -1):\n",
    "        x[i] = Matrix[i][N] # start with the RHS of the equation */\n",
    " \n",
    "        # Initialize j to i+1 since matrix is upper\n",
    "        #  triangular\n",
    "        for j in range(i + 1, N):\n",
    "           \n",
    "            # subtract all the LHS values\n",
    "            # except the coefficient of the variable\n",
    "            # whose value is being calculated \n",
    "            x[i] = x[i] - Matrix[i][j]*x[j]\n",
    " \n",
    "        # divide the RHS by the coefficient of the\n",
    "        #  unknown being calculated\n",
    "        x[i] = (x[i]/Matrix[i][i])\n",
    " \n",
    "    print(\"\\nSolution for the system:\")\n",
    "    for i in range(N):\n",
    "        print(\"{:.8f}\".format(x[i]))"
   ]
  },
  {
   "cell_type": "code",
   "execution_count": 40,
   "id": "2f5802f2",
   "metadata": {},
   "outputs": [
    {
     "name": "stdout",
     "output_type": "stream",
     "text": [
      "Number of rows :4\n",
      "Number of cols :5\n",
      "Enter M[0][0] 1\n",
      "Enter M[0][1] 1\n",
      "Enter M[0][2] 1\n",
      "Enter M[0][3] 1\n",
      "Enter M[0][4] 1\n",
      "Enter M[1][0] 1\n",
      "Enter M[1][1] 1\n",
      "Enter M[1][2] 3\n",
      "Enter M[1][3] 3\n",
      "Enter M[1][4] 3\n",
      "Enter M[2][0] 1\n",
      "Enter M[2][1] 1\n",
      "Enter M[2][2] 2\n",
      "Enter M[2][3] 3\n",
      "Enter M[2][4] 3\n",
      "Enter M[3][0] 1\n",
      "Enter M[3][1] 3\n",
      "Enter M[3][2] 3\n",
      "Enter M[3][3] 3\n",
      "Enter M[3][4] 4\n",
      "\n",
      "Solution for the system:\n",
      "-0.50000000\n",
      "0.50000000\n",
      "0.00000000\n",
      "1.00000000\n"
     ]
    }
   ],
   "source": [
    "rows = int(input(\"Number of rows :\"))\n",
    "cols = int(input(\"Number of columns (including the argumented column) :\"))\n",
    "M = [[0]*cols for i in range(rows)]\n",
    "\n",
    "for i in range(rows):\n",
    "    for j in range(cols):\n",
    "        M[i][j] = int(input(f\"Enter M[{i}][{j}] = \"))\n",
    "\n",
    "Gaussian_Elimination(M)"
   ]
  },
  {
   "cell_type": "code",
   "execution_count": null,
   "id": "3dae5355",
   "metadata": {},
   "outputs": [],
   "source": []
  }
 ],
 "metadata": {
  "kernelspec": {
   "display_name": "Python 3 (ipykernel)",
   "language": "python",
   "name": "python3"
  },
  "language_info": {
   "codemirror_mode": {
    "name": "ipython",
    "version": 3
   },
   "file_extension": ".py",
   "mimetype": "text/x-python",
   "name": "python",
   "nbconvert_exporter": "python",
   "pygments_lexer": "ipython3",
   "version": "3.9.13"
  }
 },
 "nbformat": 4,
 "nbformat_minor": 5
}
