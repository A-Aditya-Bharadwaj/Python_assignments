{
 "cells": [
  {
   "cell_type": "code",
   "execution_count": 5,
   "id": "aeb1016a",
   "metadata": {},
   "outputs": [],
   "source": [
    "def Dot_product(v1, v2): #v1 and v2 are list\n",
    "    if(len(v1) != len(v2)):\n",
    "        print(\"The dimentions of the two vectors are not same\")\n",
    "        return\n",
    "    dot_p = 0\n",
    "    for i in range(0,len(v1)):\n",
    "        dot_p += v1[i]*v2[i]\n",
    "    \n",
    "    return dot_p"
   ]
  },
  {
   "cell_type": "code",
   "execution_count": 6,
   "id": "4218c349",
   "metadata": {},
   "outputs": [
    {
     "data": {
      "text/plain": [
       "30"
      ]
     },
     "execution_count": 6,
     "metadata": {},
     "output_type": "execute_result"
    }
   ],
   "source": [
    "a = [5,5,2]\n",
    "b = [2,2,5]\n",
    "Dot_product(a,b)"
   ]
  },
  {
   "cell_type": "code",
   "execution_count": null,
   "id": "9f6bbddc",
   "metadata": {},
   "outputs": [],
   "source": []
  }
 ],
 "metadata": {
  "kernelspec": {
   "display_name": "Python 3 (ipykernel)",
   "language": "python",
   "name": "python3"
  },
  "language_info": {
   "codemirror_mode": {
    "name": "ipython",
    "version": 3
   },
   "file_extension": ".py",
   "mimetype": "text/x-python",
   "name": "python",
   "nbconvert_exporter": "python",
   "pygments_lexer": "ipython3",
   "version": "3.9.13"
  }
 },
 "nbformat": 4,
 "nbformat_minor": 5
}
